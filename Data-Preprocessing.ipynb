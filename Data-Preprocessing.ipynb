{
 "cells": [
  {
   "cell_type": "markdown",
   "id": "dfa4d584",
   "metadata": {},
   "source": [
    "### The purpose of this notebook is to add an index to the time series data to allow aggregation."
   ]
  },
  {
   "cell_type": "code",
   "execution_count": 1,
   "id": "c13a5801",
   "metadata": {},
   "outputs": [],
   "source": [
    "import numpy as np\n",
    "import pandas as pd\n",
    "import matplotlib.pyplot as plt\n",
    "import seaborn as sns"
   ]
  },
  {
   "cell_type": "code",
   "execution_count": 2,
   "id": "c8009058",
   "metadata": {},
   "outputs": [],
   "source": [
    "train_0D = pd.read_csv('0D.csv')"
   ]
  },
  {
   "cell_type": "code",
   "execution_count": 3,
   "id": "b9488c5d",
   "metadata": {},
   "outputs": [
    {
     "data": {
      "text/html": [
       "<div>\n",
       "<style scoped>\n",
       "    .dataframe tbody tr th:only-of-type {\n",
       "        vertical-align: middle;\n",
       "    }\n",
       "\n",
       "    .dataframe tbody tr th {\n",
       "        vertical-align: top;\n",
       "    }\n",
       "\n",
       "    .dataframe thead th {\n",
       "        text-align: right;\n",
       "    }\n",
       "</style>\n",
       "<table border=\"1\" class=\"dataframe\">\n",
       "  <thead>\n",
       "    <tr style=\"text-align: right;\">\n",
       "      <th></th>\n",
       "      <th>V_in</th>\n",
       "      <th>Measured_RPM</th>\n",
       "      <th>Vibration_1</th>\n",
       "      <th>Vibration_2</th>\n",
       "      <th>Vibration_3</th>\n",
       "    </tr>\n",
       "  </thead>\n",
       "  <tbody>\n",
       "    <tr>\n",
       "      <th>0</th>\n",
       "      <td>0.0</td>\n",
       "      <td>28.610235</td>\n",
       "      <td>0.0</td>\n",
       "      <td>0.0</td>\n",
       "      <td>0.0</td>\n",
       "    </tr>\n",
       "    <tr>\n",
       "      <th>1</th>\n",
       "      <td>0.0</td>\n",
       "      <td>28.610235</td>\n",
       "      <td>0.0</td>\n",
       "      <td>0.0</td>\n",
       "      <td>0.0</td>\n",
       "    </tr>\n",
       "    <tr>\n",
       "      <th>2</th>\n",
       "      <td>0.0</td>\n",
       "      <td>28.610235</td>\n",
       "      <td>0.0</td>\n",
       "      <td>0.0</td>\n",
       "      <td>0.0</td>\n",
       "    </tr>\n",
       "    <tr>\n",
       "      <th>3</th>\n",
       "      <td>0.0</td>\n",
       "      <td>28.610235</td>\n",
       "      <td>0.0</td>\n",
       "      <td>0.0</td>\n",
       "      <td>0.0</td>\n",
       "    </tr>\n",
       "    <tr>\n",
       "      <th>4</th>\n",
       "      <td>0.0</td>\n",
       "      <td>28.610235</td>\n",
       "      <td>0.0</td>\n",
       "      <td>0.0</td>\n",
       "      <td>0.0</td>\n",
       "    </tr>\n",
       "  </tbody>\n",
       "</table>\n",
       "</div>"
      ],
      "text/plain": [
       "   V_in  Measured_RPM  Vibration_1  Vibration_2  Vibration_3\n",
       "0   0.0     28.610235          0.0          0.0          0.0\n",
       "1   0.0     28.610235          0.0          0.0          0.0\n",
       "2   0.0     28.610235          0.0          0.0          0.0\n",
       "3   0.0     28.610235          0.0          0.0          0.0\n",
       "4   0.0     28.610235          0.0          0.0          0.0"
      ]
     },
     "execution_count": 3,
     "metadata": {},
     "output_type": "execute_result"
    }
   ],
   "source": [
    "train_0D.head()"
   ]
  },
  {
   "cell_type": "code",
   "execution_count": 4,
   "id": "f0158a71",
   "metadata": {},
   "outputs": [
    {
     "data": {
      "text/html": [
       "<div>\n",
       "<style scoped>\n",
       "    .dataframe tbody tr th:only-of-type {\n",
       "        vertical-align: middle;\n",
       "    }\n",
       "\n",
       "    .dataframe tbody tr th {\n",
       "        vertical-align: top;\n",
       "    }\n",
       "\n",
       "    .dataframe thead th {\n",
       "        text-align: right;\n",
       "    }\n",
       "</style>\n",
       "<table border=\"1\" class=\"dataframe\">\n",
       "  <thead>\n",
       "    <tr style=\"text-align: right;\">\n",
       "      <th></th>\n",
       "      <th>V_in</th>\n",
       "      <th>Measured_RPM</th>\n",
       "      <th>Vibration_1</th>\n",
       "      <th>Vibration_2</th>\n",
       "      <th>Vibration_3</th>\n",
       "    </tr>\n",
       "  </thead>\n",
       "  <tbody>\n",
       "    <tr>\n",
       "      <th>26423290</th>\n",
       "      <td>2.0</td>\n",
       "      <td>643.38338</td>\n",
       "      <td>0.001339</td>\n",
       "      <td>0.000769</td>\n",
       "      <td>0.003015</td>\n",
       "    </tr>\n",
       "    <tr>\n",
       "      <th>26423291</th>\n",
       "      <td>2.0</td>\n",
       "      <td>643.38338</td>\n",
       "      <td>0.001261</td>\n",
       "      <td>0.000952</td>\n",
       "      <td>0.003138</td>\n",
       "    </tr>\n",
       "    <tr>\n",
       "      <th>26423292</th>\n",
       "      <td>2.0</td>\n",
       "      <td>643.38338</td>\n",
       "      <td>0.000966</td>\n",
       "      <td>0.000895</td>\n",
       "      <td>0.003057</td>\n",
       "    </tr>\n",
       "    <tr>\n",
       "      <th>26423293</th>\n",
       "      <td>2.0</td>\n",
       "      <td>643.38338</td>\n",
       "      <td>0.000976</td>\n",
       "      <td>0.000744</td>\n",
       "      <td>0.002798</td>\n",
       "    </tr>\n",
       "    <tr>\n",
       "      <th>26423294</th>\n",
       "      <td>2.0</td>\n",
       "      <td>643.38338</td>\n",
       "      <td>0.000740</td>\n",
       "      <td>0.000880</td>\n",
       "      <td>0.002686</td>\n",
       "    </tr>\n",
       "  </tbody>\n",
       "</table>\n",
       "</div>"
      ],
      "text/plain": [
       "          V_in  Measured_RPM  Vibration_1  Vibration_2  Vibration_3\n",
       "26423290   2.0     643.38338     0.001339     0.000769     0.003015\n",
       "26423291   2.0     643.38338     0.001261     0.000952     0.003138\n",
       "26423292   2.0     643.38338     0.000966     0.000895     0.003057\n",
       "26423293   2.0     643.38338     0.000976     0.000744     0.002798\n",
       "26423294   2.0     643.38338     0.000740     0.000880     0.002686"
      ]
     },
     "execution_count": 4,
     "metadata": {},
     "output_type": "execute_result"
    }
   ],
   "source": [
    "train_0D.tail()"
   ]
  },
  {
   "cell_type": "markdown",
   "id": "23a828bb",
   "metadata": {},
   "source": [
    "### For time series analysis, we assume that the data was captured in sequence from the 1st to the last row of the dataset, hence we will add an index to allow for easier manipulation"
   ]
  },
  {
   "cell_type": "code",
   "execution_count": 5,
   "id": "578c0fb4",
   "metadata": {},
   "outputs": [
    {
     "data": {
      "text/html": [
       "<div>\n",
       "<style scoped>\n",
       "    .dataframe tbody tr th:only-of-type {\n",
       "        vertical-align: middle;\n",
       "    }\n",
       "\n",
       "    .dataframe tbody tr th {\n",
       "        vertical-align: top;\n",
       "    }\n",
       "\n",
       "    .dataframe thead th {\n",
       "        text-align: right;\n",
       "    }\n",
       "</style>\n",
       "<table border=\"1\" class=\"dataframe\">\n",
       "  <thead>\n",
       "    <tr style=\"text-align: right;\">\n",
       "      <th></th>\n",
       "      <th>row_index</th>\n",
       "      <th>V_in</th>\n",
       "      <th>Measured_RPM</th>\n",
       "      <th>Vibration_1</th>\n",
       "      <th>Vibration_2</th>\n",
       "      <th>Vibration_3</th>\n",
       "    </tr>\n",
       "  </thead>\n",
       "  <tbody>\n",
       "    <tr>\n",
       "      <th>0</th>\n",
       "      <td>1</td>\n",
       "      <td>0.0</td>\n",
       "      <td>28.610235</td>\n",
       "      <td>0.0</td>\n",
       "      <td>0.0</td>\n",
       "      <td>0.0</td>\n",
       "    </tr>\n",
       "    <tr>\n",
       "      <th>1</th>\n",
       "      <td>2</td>\n",
       "      <td>0.0</td>\n",
       "      <td>28.610235</td>\n",
       "      <td>0.0</td>\n",
       "      <td>0.0</td>\n",
       "      <td>0.0</td>\n",
       "    </tr>\n",
       "    <tr>\n",
       "      <th>2</th>\n",
       "      <td>3</td>\n",
       "      <td>0.0</td>\n",
       "      <td>28.610235</td>\n",
       "      <td>0.0</td>\n",
       "      <td>0.0</td>\n",
       "      <td>0.0</td>\n",
       "    </tr>\n",
       "    <tr>\n",
       "      <th>3</th>\n",
       "      <td>4</td>\n",
       "      <td>0.0</td>\n",
       "      <td>28.610235</td>\n",
       "      <td>0.0</td>\n",
       "      <td>0.0</td>\n",
       "      <td>0.0</td>\n",
       "    </tr>\n",
       "    <tr>\n",
       "      <th>4</th>\n",
       "      <td>5</td>\n",
       "      <td>0.0</td>\n",
       "      <td>28.610235</td>\n",
       "      <td>0.0</td>\n",
       "      <td>0.0</td>\n",
       "      <td>0.0</td>\n",
       "    </tr>\n",
       "  </tbody>\n",
       "</table>\n",
       "</div>"
      ],
      "text/plain": [
       "   row_index  V_in  Measured_RPM  Vibration_1  Vibration_2  Vibration_3\n",
       "0          1   0.0     28.610235          0.0          0.0          0.0\n",
       "1          2   0.0     28.610235          0.0          0.0          0.0\n",
       "2          3   0.0     28.610235          0.0          0.0          0.0\n",
       "3          4   0.0     28.610235          0.0          0.0          0.0\n",
       "4          5   0.0     28.610235          0.0          0.0          0.0"
      ]
     },
     "execution_count": 5,
     "metadata": {},
     "output_type": "execute_result"
    }
   ],
   "source": [
    "row_index = range(1,len(train_0D)+1)\n",
    "train_0D.insert(0,'row_index',row_index)\n",
    "train_0D.head()"
   ]
  },
  {
   "cell_type": "code",
   "execution_count": 6,
   "id": "efbd33d2",
   "metadata": {},
   "outputs": [
    {
     "data": {
      "text/html": [
       "<div>\n",
       "<style scoped>\n",
       "    .dataframe tbody tr th:only-of-type {\n",
       "        vertical-align: middle;\n",
       "    }\n",
       "\n",
       "    .dataframe tbody tr th {\n",
       "        vertical-align: top;\n",
       "    }\n",
       "\n",
       "    .dataframe thead th {\n",
       "        text-align: right;\n",
       "    }\n",
       "</style>\n",
       "<table border=\"1\" class=\"dataframe\">\n",
       "  <thead>\n",
       "    <tr style=\"text-align: right;\">\n",
       "      <th></th>\n",
       "      <th>row_index</th>\n",
       "      <th>V_in</th>\n",
       "      <th>Measured_RPM</th>\n",
       "      <th>Vibration_1</th>\n",
       "      <th>Vibration_2</th>\n",
       "      <th>Vibration_3</th>\n",
       "    </tr>\n",
       "  </thead>\n",
       "  <tbody>\n",
       "    <tr>\n",
       "      <th>26423290</th>\n",
       "      <td>26423291</td>\n",
       "      <td>2.0</td>\n",
       "      <td>643.38338</td>\n",
       "      <td>0.001339</td>\n",
       "      <td>0.000769</td>\n",
       "      <td>0.003015</td>\n",
       "    </tr>\n",
       "    <tr>\n",
       "      <th>26423291</th>\n",
       "      <td>26423292</td>\n",
       "      <td>2.0</td>\n",
       "      <td>643.38338</td>\n",
       "      <td>0.001261</td>\n",
       "      <td>0.000952</td>\n",
       "      <td>0.003138</td>\n",
       "    </tr>\n",
       "    <tr>\n",
       "      <th>26423292</th>\n",
       "      <td>26423293</td>\n",
       "      <td>2.0</td>\n",
       "      <td>643.38338</td>\n",
       "      <td>0.000966</td>\n",
       "      <td>0.000895</td>\n",
       "      <td>0.003057</td>\n",
       "    </tr>\n",
       "    <tr>\n",
       "      <th>26423293</th>\n",
       "      <td>26423294</td>\n",
       "      <td>2.0</td>\n",
       "      <td>643.38338</td>\n",
       "      <td>0.000976</td>\n",
       "      <td>0.000744</td>\n",
       "      <td>0.002798</td>\n",
       "    </tr>\n",
       "    <tr>\n",
       "      <th>26423294</th>\n",
       "      <td>26423295</td>\n",
       "      <td>2.0</td>\n",
       "      <td>643.38338</td>\n",
       "      <td>0.000740</td>\n",
       "      <td>0.000880</td>\n",
       "      <td>0.002686</td>\n",
       "    </tr>\n",
       "  </tbody>\n",
       "</table>\n",
       "</div>"
      ],
      "text/plain": [
       "          row_index  V_in  Measured_RPM  Vibration_1  Vibration_2  Vibration_3\n",
       "26423290   26423291   2.0     643.38338     0.001339     0.000769     0.003015\n",
       "26423291   26423292   2.0     643.38338     0.001261     0.000952     0.003138\n",
       "26423292   26423293   2.0     643.38338     0.000966     0.000895     0.003057\n",
       "26423293   26423294   2.0     643.38338     0.000976     0.000744     0.002798\n",
       "26423294   26423295   2.0     643.38338     0.000740     0.000880     0.002686"
      ]
     },
     "execution_count": 6,
     "metadata": {},
     "output_type": "execute_result"
    }
   ],
   "source": [
    "train_0D.tail()"
   ]
  },
  {
   "cell_type": "code",
   "execution_count": 7,
   "id": "5dfb64f2",
   "metadata": {},
   "outputs": [],
   "source": [
    "train_0D.to_csv('train_0D_index.csv', index=False)"
   ]
  },
  {
   "cell_type": "code",
   "execution_count": 2,
   "id": "bae00ef1",
   "metadata": {},
   "outputs": [],
   "source": [
    "# Doing the same for all other datasets, and saving them as a new csv.\n",
    "\n",
    "#train_1D = pd.read_csv('1D.csv')\n",
    "train_2D = pd.read_csv('2D.csv')\n",
    "#train_3D = pd.read_csv('3D.csv')\n",
    "#train_4D = pd.read_csv('4D.csv')\n",
    "\n",
    "#eval_0E = pd.read_csv('0E.csv')\n",
    "#eval_1E = pd.read_csv('1E.csv')\n",
    "#eval_2E = pd.read_csv('2E.csv')\n",
    "#eval_3E = pd.read_csv('3E.csv')\n",
    "#eval_4E = pd.read_csv('4E.csv')"
   ]
  },
  {
   "cell_type": "code",
   "execution_count": 10,
   "id": "6c12925b",
   "metadata": {},
   "outputs": [],
   "source": [
    "eval_1E = pd.read_csv('1E.csv')"
   ]
  },
  {
   "cell_type": "code",
   "execution_count": 3,
   "id": "50aa2484",
   "metadata": {},
   "outputs": [
    {
     "data": {
      "text/html": [
       "<div>\n",
       "<style scoped>\n",
       "    .dataframe tbody tr th:only-of-type {\n",
       "        vertical-align: middle;\n",
       "    }\n",
       "\n",
       "    .dataframe tbody tr th {\n",
       "        vertical-align: top;\n",
       "    }\n",
       "\n",
       "    .dataframe thead th {\n",
       "        text-align: right;\n",
       "    }\n",
       "</style>\n",
       "<table border=\"1\" class=\"dataframe\">\n",
       "  <thead>\n",
       "    <tr style=\"text-align: right;\">\n",
       "      <th></th>\n",
       "      <th>row_index</th>\n",
       "      <th>V_in</th>\n",
       "      <th>Measured_RPM</th>\n",
       "      <th>Vibration_1</th>\n",
       "      <th>Vibration_2</th>\n",
       "      <th>Vibration_3</th>\n",
       "    </tr>\n",
       "  </thead>\n",
       "  <tbody>\n",
       "    <tr>\n",
       "      <th>0</th>\n",
       "      <td>1</td>\n",
       "      <td>0.0</td>\n",
       "      <td>28.610235</td>\n",
       "      <td>0.0</td>\n",
       "      <td>0.0</td>\n",
       "      <td>0.0</td>\n",
       "    </tr>\n",
       "    <tr>\n",
       "      <th>1</th>\n",
       "      <td>2</td>\n",
       "      <td>0.0</td>\n",
       "      <td>28.610235</td>\n",
       "      <td>0.0</td>\n",
       "      <td>0.0</td>\n",
       "      <td>0.0</td>\n",
       "    </tr>\n",
       "    <tr>\n",
       "      <th>2</th>\n",
       "      <td>3</td>\n",
       "      <td>0.0</td>\n",
       "      <td>28.610235</td>\n",
       "      <td>0.0</td>\n",
       "      <td>0.0</td>\n",
       "      <td>0.0</td>\n",
       "    </tr>\n",
       "    <tr>\n",
       "      <th>3</th>\n",
       "      <td>4</td>\n",
       "      <td>0.0</td>\n",
       "      <td>28.610235</td>\n",
       "      <td>0.0</td>\n",
       "      <td>0.0</td>\n",
       "      <td>0.0</td>\n",
       "    </tr>\n",
       "    <tr>\n",
       "      <th>4</th>\n",
       "      <td>5</td>\n",
       "      <td>0.0</td>\n",
       "      <td>28.610235</td>\n",
       "      <td>0.0</td>\n",
       "      <td>0.0</td>\n",
       "      <td>0.0</td>\n",
       "    </tr>\n",
       "  </tbody>\n",
       "</table>\n",
       "</div>"
      ],
      "text/plain": [
       "   row_index  V_in  Measured_RPM  Vibration_1  Vibration_2  Vibration_3\n",
       "0          1   0.0     28.610235          0.0          0.0          0.0\n",
       "1          2   0.0     28.610235          0.0          0.0          0.0\n",
       "2          3   0.0     28.610235          0.0          0.0          0.0\n",
       "3          4   0.0     28.610235          0.0          0.0          0.0\n",
       "4          5   0.0     28.610235          0.0          0.0          0.0"
      ]
     },
     "execution_count": 3,
     "metadata": {},
     "output_type": "execute_result"
    }
   ],
   "source": [
    "row_index = range(1,len(train_2D)+1)\n",
    "train_2D.insert(0,'row_index',row_index)\n",
    "train_2D.head()"
   ]
  },
  {
   "cell_type": "code",
   "execution_count": 9,
   "id": "1b7fb00d",
   "metadata": {
    "scrolled": false
   },
   "outputs": [],
   "source": [
    "train_2D.to_csv('C:/Users/jerem/Downloads/train_2D_index.csv', index=False)"
   ]
  },
  {
   "cell_type": "code",
   "execution_count": 4,
   "id": "ce1ccbf5",
   "metadata": {},
   "outputs": [],
   "source": [
    "row_index = range(1,len(train_3D)+1)\n",
    "train_3D.insert(0,'row_index',row_index)\n",
    "train_3D.head()\n",
    "\n",
    "train_3D.to_csv('train_3D_index.csv', index=False)"
   ]
  },
  {
   "cell_type": "code",
   "execution_count": 5,
   "id": "965378a6",
   "metadata": {},
   "outputs": [],
   "source": [
    "row_index = range(1,len(eval_2E)+1)\n",
    "eval_2E.insert(0,'row_index',row_index)\n",
    "eval_2E.head()\n",
    "\n",
    "eval_2E.to_csv('eval_2E_index.csv', index=False)"
   ]
  },
  {
   "cell_type": "code",
   "execution_count": 6,
   "id": "c48d1fd4",
   "metadata": {},
   "outputs": [],
   "source": [
    "row_index = range(1,len(eval_3E)+1)\n",
    "eval_3E.insert(0,'row_index',row_index)\n",
    "eval_3E.head()\n",
    "\n",
    "eval_3E.to_csv('eval_3E_index.csv', index=False) "
   ]
  },
  {
   "cell_type": "code",
   "execution_count": 7,
   "id": "4f31a219",
   "metadata": {},
   "outputs": [],
   "source": [
    "train_4D = pd.read_csv('4D.csv')\n",
    "eval_4E = pd.read_csv('4E.csv')"
   ]
  },
  {
   "cell_type": "code",
   "execution_count": 8,
   "id": "5c9d3f92",
   "metadata": {},
   "outputs": [],
   "source": [
    "row_index = range(1,len(train_4D)+1)\n",
    "train_4D.insert(0,'row_index',row_index)\n",
    "train_4D.head()\n",
    "\n",
    "train_4D.to_csv('train_4D_index.csv', index=False)"
   ]
  },
  {
   "cell_type": "code",
   "execution_count": 9,
   "id": "dee959a5",
   "metadata": {},
   "outputs": [],
   "source": [
    "row_index = range(1,len(eval_4E)+1)\n",
    "eval_4E.insert(0,'row_index',row_index)\n",
    "eval_4E.head()\n",
    "\n",
    "eval_4E.to_csv('eval_4E_index.csv', index=False)"
   ]
  },
  {
   "cell_type": "code",
   "execution_count": 11,
   "id": "38d25775",
   "metadata": {},
   "outputs": [],
   "source": [
    "row_index = range(1,len(eval_1E)+1)\n",
    "eval_1E.insert(0,'row_index',row_index)\n",
    "eval_1E.head()\n",
    "\n",
    "eval_1E.to_csv('eval_1E_index.csv', index=False)"
   ]
  },
  {
   "cell_type": "code",
   "execution_count": null,
   "id": "f83139b6",
   "metadata": {},
   "outputs": [],
   "source": []
  }
 ],
 "metadata": {
  "kernelspec": {
   "display_name": "Python 3 (ipykernel)",
   "language": "python",
   "name": "python3"
  },
  "language_info": {
   "codemirror_mode": {
    "name": "ipython",
    "version": 3
   },
   "file_extension": ".py",
   "mimetype": "text/x-python",
   "name": "python",
   "nbconvert_exporter": "python",
   "pygments_lexer": "ipython3",
   "version": "3.11.5"
  }
 },
 "nbformat": 4,
 "nbformat_minor": 5
}
